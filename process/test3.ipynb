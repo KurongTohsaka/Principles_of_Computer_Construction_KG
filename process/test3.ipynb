{
 "cells": [
  {
   "cell_type": "code",
   "metadata": {
    "ExecuteTime": {
     "end_time": "2024-09-30T13:04:25.821411Z",
     "start_time": "2024-09-30T13:04:25.817388Z"
    }
   },
   "source": [
    "import os\n",
    "import json\n",
    "import random"
   ],
   "outputs": [],
   "execution_count": 2
  },
  {
   "cell_type": "code",
   "metadata": {
    "ExecuteTime": {
     "end_time": "2024-09-17T03:14:22.930613Z",
     "start_time": "2024-09-17T03:14:22.799501Z"
    }
   },
   "source": [
    "with open(r\"G:\\python_codes\\Principles_of_Computer_Construction_KG\\output\\[banned]\\re_pre_annotated_trainset_top_300.json\", 'r', encoding='utf-8') as f:\n",
    "    re_trainset = json.loads(f.read())\n",
    "\n",
    "with open(r\"G:\\python_codes\\Principles_of_Computer_Construction_KG\\output\\[banned]\\re_pre_annotated_validset_top_50.json\", 'r', encoding='utf-8') as f:\n",
    "    re_validset = json.loads(f.read())\n",
    "\n",
    "with open(r\"G:\\python_codes\\Principles_of_Computer_Construction_KG\\output\\[banned]\\re_pre_annotated_testset_top_100.json\", 'r', encoding='utf-8') as f:\n",
    "    re_testset = json.loads(f.read())"
   ],
   "outputs": [],
   "execution_count": 2
  },
  {
   "metadata": {
    "ExecuteTime": {
     "end_time": "2024-09-15T09:14:22.325414Z",
     "start_time": "2024-09-15T09:14:22.303511Z"
    }
   },
   "cell_type": "code",
   "source": "re_trainset[0]",
   "outputs": [
    {
     "data": {
      "text/plain": [
       "{'id': 7740,\n",
       " 'annotations': [{'id': 9173,\n",
       "   'completed_by': 1,\n",
       "   'result': [{'value': {'start': 14,\n",
       "      'end': 18,\n",
       "      'text': '预取结构',\n",
       "      'labels': ['TECH']},\n",
       "     'id': '1',\n",
       "     'from_name': 'label',\n",
       "     'to_name': 'text',\n",
       "     'type': 'labels',\n",
       "     'origin': 'prediction'},\n",
       "    {'value': {'start': 0, 'end': 7, 'text': '双倍数据率结构', 'labels': ['TECH']},\n",
       "     'id': '8ExFX-LBm3',\n",
       "     'from_name': 'label',\n",
       "     'to_name': 'text',\n",
       "     'type': 'labels',\n",
       "     'origin': 'manual'},\n",
       "    {'from_id': '8ExFX-LBm3',\n",
       "     'to_id': '1',\n",
       "     'type': 'relation',\n",
       "     'direction': 'left',\n",
       "     'labels': ['org:contain']}],\n",
       "   'was_cancelled': False,\n",
       "   'ground_truth': False,\n",
       "   'created_at': '2024-09-04T01:57:37.442749Z',\n",
       "   'updated_at': '2024-09-04T01:57:37.442749Z',\n",
       "   'draft_created_at': '2024-09-04T01:55:08.936141Z',\n",
       "   'lead_time': 116.893,\n",
       "   'prediction': {'id': 158575,\n",
       "    'result': [{'id': '1',\n",
       "      'from_name': 'label',\n",
       "      'to_name': 'text',\n",
       "      'type': 'labels',\n",
       "      'value': {'start': 14,\n",
       "       'end': 18,\n",
       "       'score': 0.1,\n",
       "       'text': '预取结构',\n",
       "       'labels': ['TECH']}}],\n",
       "    'model_version': '',\n",
       "    'created_ago': '14\\xa0hours, 17\\xa0minutes',\n",
       "    'score': 0.0,\n",
       "    'cluster': None,\n",
       "    'neighbors': None,\n",
       "    'mislabeling': 0.0,\n",
       "    'created_at': '2024-09-03T11:40:21.702999Z',\n",
       "    'updated_at': '2024-09-03T11:40:21.702999Z',\n",
       "    'model': None,\n",
       "    'model_run': None,\n",
       "    'task': 7740,\n",
       "    'project': 45},\n",
       "   'result_count': 0,\n",
       "   'unique_id': 'a037f8dc-bb09-41d7-8d69-ed342b8588cb',\n",
       "   'import_id': None,\n",
       "   'last_action': None,\n",
       "   'task': 7740,\n",
       "   'project': 45,\n",
       "   'updated_by': 1,\n",
       "   'parent_prediction': None,\n",
       "   'parent_annotation': None,\n",
       "   'last_created_by': None}],\n",
       " 'file_upload': '6aa7c014-re_pre_annotated_trainset.json',\n",
       " 'drafts': [],\n",
       " 'predictions': [158575],\n",
       " 'data': {'text': '双倍数据率结构本质上是一个n预取结构，如图所示'},\n",
       " 'meta': {},\n",
       " 'created_at': '2024-09-03T11:40:21.165769Z',\n",
       " 'updated_at': '2024-09-04T01:57:37.492657Z',\n",
       " 'inner_id': 1,\n",
       " 'total_annotations': 1,\n",
       " 'cancelled_annotations': 0,\n",
       " 'total_predictions': 1,\n",
       " 'comment_count': 0,\n",
       " 'unresolved_comment_count': 0,\n",
       " 'last_comment_updated_at': None,\n",
       " 'project': 45,\n",
       " 'updated_by': 1,\n",
       " 'comment_authors': []}"
      ]
     },
     "execution_count": 23,
     "metadata": {},
     "output_type": "execute_result"
    }
   ],
   "execution_count": 23
  },
  {
   "metadata": {
    "ExecuteTime": {
     "end_time": "2024-09-15T09:14:18.802030Z",
     "start_time": "2024-09-15T09:14:18.785896Z"
    }
   },
   "cell_type": "code",
   "source": "re_validset[0]",
   "outputs": [
    {
     "data": {
      "text/plain": [
       "{'id': 11887,\n",
       " 'annotations': [{'id': 9475,\n",
       "   'completed_by': 1,\n",
       "   'result': [{'value': {'start': 2,\n",
       "      'end': 8,\n",
       "      'text': 'cache行',\n",
       "      'labels': ['STOR']},\n",
       "     'id': '1',\n",
       "     'from_name': 'label',\n",
       "     'to_name': 'text',\n",
       "     'type': 'labels',\n",
       "     'origin': 'prediction'},\n",
       "    {'value': {'start': 47, 'end': 50, 'text': '控制器', 'labels': ['COMP']},\n",
       "     'id': '2',\n",
       "     'from_name': 'label',\n",
       "     'to_name': 'text',\n",
       "     'type': 'labels',\n",
       "     'origin': 'prediction'},\n",
       "    {'value': {'start': 13, 'end': 17, 'text': '处理机核', 'labels': ['COMP']},\n",
       "     'id': '3',\n",
       "     'from_name': 'label',\n",
       "     'to_name': 'text',\n",
       "     'type': 'labels',\n",
       "     'origin': 'prediction'},\n",
       "    {'value': {'start': 24, 'end': 28, 'text': '处理机核', 'labels': ['COMP']},\n",
       "     'id': '4',\n",
       "     'from_name': 'label',\n",
       "     'to_name': 'text',\n",
       "     'type': 'labels',\n",
       "     'origin': 'prediction'},\n",
       "    {'from_id': '4',\n",
       "     'to_id': '2',\n",
       "     'type': 'relation',\n",
       "     'direction': 'right',\n",
       "     'labels': ['org:attribute']},\n",
       "    {'from_id': '1',\n",
       "     'to_id': '3',\n",
       "     'type': 'relation',\n",
       "     'direction': 'left',\n",
       "     'labels': ['org:contain']}],\n",
       "   'was_cancelled': False,\n",
       "   'ground_truth': False,\n",
       "   'created_at': '2024-09-15T02:49:00.697681Z',\n",
       "   'updated_at': '2024-09-15T02:49:00.697681Z',\n",
       "   'draft_created_at': None,\n",
       "   'lead_time': 244.143,\n",
       "   'prediction': {'id': 162722,\n",
       "    'result': [{'id': '1',\n",
       "      'from_name': 'label',\n",
       "      'to_name': 'text',\n",
       "      'type': 'labels',\n",
       "      'value': {'start': 2,\n",
       "       'end': 8,\n",
       "       'score': 0.1,\n",
       "       'text': 'cache行',\n",
       "       'labels': ['STOR']}},\n",
       "     {'id': '2',\n",
       "      'from_name': 'label',\n",
       "      'to_name': 'text',\n",
       "      'type': 'labels',\n",
       "      'value': {'start': 47,\n",
       "       'end': 50,\n",
       "       'score': 0.1,\n",
       "       'text': '控制器',\n",
       "       'labels': ['COMP']}},\n",
       "     {'id': '3',\n",
       "      'from_name': 'label',\n",
       "      'to_name': 'text',\n",
       "      'type': 'labels',\n",
       "      'value': {'start': 13,\n",
       "       'end': 17,\n",
       "       'score': 0.1,\n",
       "       'text': '处理机核',\n",
       "       'labels': ['COMP']}},\n",
       "     {'id': '4',\n",
       "      'from_name': 'label',\n",
       "      'to_name': 'text',\n",
       "      'type': 'labels',\n",
       "      'value': {'start': 24,\n",
       "       'end': 28,\n",
       "       'score': 0.1,\n",
       "       'text': '处理机核',\n",
       "       'labels': ['COMP']}}],\n",
       "    'model_version': '',\n",
       "    'created_ago': '5\\xa0minutes',\n",
       "    'score': 0.0,\n",
       "    'cluster': None,\n",
       "    'neighbors': None,\n",
       "    'mislabeling': 0.0,\n",
       "    'created_at': '2024-09-15T02:43:58.606125Z',\n",
       "    'updated_at': '2024-09-15T02:43:58.606125Z',\n",
       "    'model': None,\n",
       "    'model_run': None,\n",
       "    'task': 11887,\n",
       "    'project': 46},\n",
       "   'result_count': 0,\n",
       "   'unique_id': '1730e28d-638f-42d0-b71a-1aaf157d3a52',\n",
       "   'import_id': None,\n",
       "   'last_action': None,\n",
       "   'task': 11887,\n",
       "   'project': 46,\n",
       "   'updated_by': 1,\n",
       "   'parent_prediction': 162722,\n",
       "   'parent_annotation': None,\n",
       "   'last_created_by': None}],\n",
       " 'file_upload': 'ea49d96d-re_pre_annotated_validset.json',\n",
       " 'drafts': [],\n",
       " 'predictions': [162722],\n",
       " 'data': {'text': '当一cache行已授权给某处理机核专有，而另外的处理机核企图读此行时，它将送出一个未命中指示给控制器'},\n",
       " 'meta': {},\n",
       " 'created_at': '2024-09-15T02:43:58.515177Z',\n",
       " 'updated_at': '2024-09-15T02:49:00.755461Z',\n",
       " 'inner_id': 1,\n",
       " 'total_annotations': 1,\n",
       " 'cancelled_annotations': 0,\n",
       " 'total_predictions': 1,\n",
       " 'comment_count': 0,\n",
       " 'unresolved_comment_count': 0,\n",
       " 'last_comment_updated_at': None,\n",
       " 'project': 46,\n",
       " 'updated_by': 1,\n",
       " 'comment_authors': []}"
      ]
     },
     "execution_count": 22,
     "metadata": {},
     "output_type": "execute_result"
    }
   ],
   "execution_count": 22
  },
  {
   "metadata": {
    "ExecuteTime": {
     "end_time": "2024-09-17T03:14:26.052856Z",
     "start_time": "2024-09-17T03:14:26.042765Z"
    }
   },
   "cell_type": "code",
   "source": "re_testset[0]",
   "outputs": [
    {
     "data": {
      "text/plain": [
       "{'id': 12406,\n",
       " 'annotations': [{'id': 9525,\n",
       "   'completed_by': 1,\n",
       "   'result': [],\n",
       "   'was_cancelled': False,\n",
       "   'ground_truth': False,\n",
       "   'created_at': '2024-09-15T06:23:37.669248Z',\n",
       "   'updated_at': '2024-09-15T06:23:37.669248Z',\n",
       "   'draft_created_at': None,\n",
       "   'lead_time': 0.995,\n",
       "   'prediction': {'id': 163241,\n",
       "    'result': [],\n",
       "    'model_version': '',\n",
       "    'created_ago': '3\\xa0hours, 39\\xa0minutes',\n",
       "    'score': 0.0,\n",
       "    'cluster': None,\n",
       "    'neighbors': None,\n",
       "    'mislabeling': 0.0,\n",
       "    'created_at': '2024-09-15T02:44:30.767675Z',\n",
       "    'updated_at': '2024-09-15T02:44:30.767675Z',\n",
       "    'model': None,\n",
       "    'model_run': None,\n",
       "    'task': 12406,\n",
       "    'project': 47},\n",
       "   'result_count': 0,\n",
       "   'unique_id': '8fcb831e-02d3-47b5-ad35-451eb2338592',\n",
       "   'import_id': None,\n",
       "   'last_action': None,\n",
       "   'task': 12406,\n",
       "   'project': 47,\n",
       "   'updated_by': 1,\n",
       "   'parent_prediction': 163241,\n",
       "   'parent_annotation': None,\n",
       "   'last_created_by': None}],\n",
       " 'file_upload': '7b052611-re_pre_annotated_testset.json',\n",
       " 'drafts': [],\n",
       " 'predictions': [163241],\n",
       " 'data': {'text': '事实上，菊花链结构是树形结构的一种特殊情况'},\n",
       " 'meta': {},\n",
       " 'created_at': '2024-09-15T02:44:30.697198Z',\n",
       " 'updated_at': '2024-09-15T06:23:37.715213Z',\n",
       " 'inner_id': 1,\n",
       " 'total_annotations': 1,\n",
       " 'cancelled_annotations': 0,\n",
       " 'total_predictions': 1,\n",
       " 'comment_count': 0,\n",
       " 'unresolved_comment_count': 0,\n",
       " 'last_comment_updated_at': None,\n",
       " 'project': 47,\n",
       " 'updated_by': 1,\n",
       " 'comment_authors': []}"
      ]
     },
     "execution_count": 3,
     "metadata": {},
     "output_type": "execute_result"
    }
   ],
   "execution_count": 3
  },
  {
   "cell_type": "code",
   "metadata": {
    "ExecuteTime": {
     "end_time": "2024-09-17T03:14:28.355194Z",
     "start_time": "2024-09-17T03:14:28.336407Z"
    }
   },
   "source": [
    "# 把标注好的 RE 数据集转换为可以处理的标准数据集\n",
    "def transform_dataset(dataset):\n",
    "    processed_dataset = []\n",
    "\n",
    "    for i, data in enumerate(dataset):\n",
    "        new_item = {\n",
    "            \"sentence\": dataset[i][\"data\"][\"text\"],\n",
    "            \"annotations\": [],\n",
    "            \"prediction\": [],\n",
    "        }\n",
    "\n",
    "        if re_trainset[i].get(\"annotations\"):\n",
    "            annotations = dataset[i][\"annotations\"][0]\n",
    "            if annotations.get(\"result\"):\n",
    "                new_item[\"annotations\"] += annotations[\"result\"]\n",
    "            if annotations.get(\"prediction\") and annotations[\"prediction\"].get(\n",
    "                \"result\"\n",
    "            ):\n",
    "                new_item[\"prediction\"] += annotations[\"prediction\"][\"result\"]\n",
    "\n",
    "        processed_dataset.append(new_item)\n",
    "\n",
    "    assert len(dataset) == len(\n",
    "        processed_dataset\n",
    "    ), f\"The length of input is {len(dataset)}, length of return is {len(processed_dataset)}, not equal.\"\n",
    "\n",
    "    extracted_label_dataset = []\n",
    "\n",
    "    for item in processed_dataset:\n",
    "        new_item = {\"sentence\": item[\"sentence\"], \"entities\": [], \"relations\": []}\n",
    "        map_entities = {}\n",
    "        entities = []\n",
    "        relations = []\n",
    "\n",
    "        # Extract entity labels and store them in a dictionary with their IDs\n",
    "        for annotation in item[\"annotations\"]:\n",
    "            if annotation[\"type\"] == \"labels\":\n",
    "                map_entities[annotation[\"id\"]] = annotation[\"value\"][\"text\"]\n",
    "                entities.append(\n",
    "                    {\n",
    "                        \"text\": annotation[\"value\"][\"text\"],\n",
    "                        \"start\": annotation[\"value\"][\"start\"],\n",
    "                        \"end\": annotation[\"value\"][\"end\"],\n",
    "                        \"labels\": annotation[\"value\"][\"labels\"],\n",
    "                    }\n",
    "                )\n",
    "\n",
    "        # Extract relationship labels and replace IDs with entity names\n",
    "        for annotation in item[\"annotations\"]:\n",
    "            if annotation[\"type\"] == \"relation\":\n",
    "                if annotation[\"type\"] == \"relation\":\n",
    "                    from_entity = map_entities[annotation[\"from_id\"]]\n",
    "                    to_entity = map_entities[annotation[\"to_id\"]]\n",
    "                    relation_label = (\n",
    "                        annotation[\"labels\"][0].split(\":\")[1]\n",
    "                        if annotation.get(\"labels\")\n",
    "                        else \"related\"\n",
    "                    )\n",
    "                    direction = annotation[\"direction\"]\n",
    "\n",
    "                if direction == \"left\":\n",
    "                    triple_tuple = (from_entity, relation_label, to_entity)\n",
    "                elif direction == \"right\":\n",
    "                    triple_tuple = (to_entity, relation_label, from_entity)\n",
    "                elif direction == \"bi\":\n",
    "                    triple_tuple = (from_entity, relation_label, to_entity)\n",
    "                    relations.append((to_entity, relation_label, from_entity))\n",
    "\n",
    "                relations.append(triple_tuple)\n",
    "\n",
    "        new_item[\"entities\"] += entities\n",
    "        new_item[\"relations\"] += relations\n",
    "\n",
    "        extracted_label_dataset.append(new_item)\n",
    "\n",
    "    return extracted_label_dataset"
   ],
   "outputs": [],
   "execution_count": 4
  },
  {
   "cell_type": "code",
   "metadata": {
    "ExecuteTime": {
     "end_time": "2024-09-17T03:14:33.589205Z",
     "start_time": "2024-09-17T03:14:33.583678Z"
    }
   },
   "source": [
    "trans_trainset = transform_dataset(re_trainset)\n",
    "trans_validset = transform_dataset(re_validset)\n",
    "trans_testset = transform_dataset(re_testset)"
   ],
   "outputs": [],
   "execution_count": 5
  },
  {
   "metadata": {
    "ExecuteTime": {
     "end_time": "2024-09-17T03:14:45.238364Z",
     "start_time": "2024-09-17T03:14:45.078861Z"
    }
   },
   "cell_type": "code",
   "source": [
    "# with open(r\"G:\\python_codes\\Principles_of_Computer_Construction_KG\\output\\[banned]\\transformed_trainset.json\", 'w', encoding='utf-8') as f:\n",
    "#     f.write(json.dumps(trans_trainset))\n",
    "# with open(r\"G:\\python_codes\\Principles_of_Computer_Construction_KG\\output\\[banned]\\transformed_validset.json\", 'w', encoding='utf-8') as f:\n",
    "#     f.write(json.dumps(trans_validset))\n",
    "with open(r\"G:\\python_codes\\Principles_of_Computer_Construction_KG\\output\\[banned]\\transformed_testset.json\", 'w', encoding='utf-8') as f:\n",
    "    f.write(json.dumps(trans_testset))"
   ],
   "outputs": [],
   "execution_count": 6
  },
  {
   "cell_type": "code",
   "metadata": {
    "ExecuteTime": {
     "end_time": "2024-09-15T09:15:27.350038Z",
     "start_time": "2024-09-15T09:15:27.332086Z"
    }
   },
   "source": "trans_validset[0]",
   "outputs": [
    {
     "data": {
      "text/plain": [
       "{'sentence': '当一cache行已授权给某处理机核专有，而另外的处理机核企图读此行时，它将送出一个未命中指示给控制器',\n",
       " 'entities': [{'text': 'cache行', 'start': 2, 'end': 8, 'labels': ['STOR']},\n",
       "  {'text': '控制器', 'start': 47, 'end': 50, 'labels': ['COMP']},\n",
       "  {'text': '处理机核', 'start': 13, 'end': 17, 'labels': ['COMP']},\n",
       "  {'text': '处理机核', 'start': 24, 'end': 28, 'labels': ['COMP']}],\n",
       " 'relations': [('控制器', 'attribute', '处理机核'), ('cache行', 'contain', '处理机核')]}"
      ]
     },
     "execution_count": 29,
     "metadata": {},
     "output_type": "execute_result"
    }
   ],
   "execution_count": 29
  },
  {
   "cell_type": "code",
   "metadata": {
    "ExecuteTime": {
     "end_time": "2024-09-30T13:05:53.679431Z",
     "start_time": "2024-09-30T13:05:53.500400Z"
    }
   },
   "source": [
    "# 生成待标注数据集\n",
    "# 需要合成训练集、验证集、测试集\n",
    "# trainset: 302\n",
    "# validset: 50\n",
    "# testset: 100\n",
    "\n",
    "with open(r'G:\\python_codes\\Principles_of_Computer_Construction_KG\\output\\trainset\\re_pre_annotated_trainset.json', 'r', encoding='utf-8') as f:\n",
    "    re_trainset = json.loads(f.read())\n",
    "\n",
    "with open(r'G:\\python_codes\\Principles_of_Computer_Construction_KG\\output\\testset\\re_pre_annotated_testset.json', 'r', encoding='utf-8') as f:\n",
    "    re_validset = json.loads(f.read())\n",
    "\n",
    "with open(r'G:\\python_codes\\Principles_of_Computer_Construction_KG\\output\\validset\\re_pre_annotated_validset.json', 'r', encoding='utf-8') as f:\n",
    "    re_testset = json.loads(f.read())"
   ],
   "outputs": [],
   "execution_count": 3
  },
  {
   "metadata": {
    "ExecuteTime": {
     "end_time": "2024-09-30T13:06:09.666562Z",
     "start_time": "2024-09-30T13:06:09.659225Z"
    }
   },
   "cell_type": "code",
   "source": "len(re_testset)",
   "outputs": [
    {
     "data": {
      "text/plain": [
       "519"
      ]
     },
     "execution_count": 6,
     "metadata": {},
     "output_type": "execute_result"
    }
   ],
   "execution_count": 6
  },
  {
   "metadata": {
    "ExecuteTime": {
     "end_time": "2024-09-30T13:07:13.949665Z",
     "start_time": "2024-09-30T13:07:13.945192Z"
    }
   },
   "cell_type": "code",
   "source": [
    "not_annotated_trainset = re_trainset[302:]\n",
    "not_annotated_validset = re_validset[50:]\n",
    "not_annotated_testset = re_testset[100:]"
   ],
   "outputs": [],
   "execution_count": 7
  },
  {
   "metadata": {
    "ExecuteTime": {
     "end_time": "2024-09-30T13:07:29.388952Z",
     "start_time": "2024-09-30T13:07:29.381898Z"
    }
   },
   "cell_type": "code",
   "source": "not_annotated_trainset[0]",
   "outputs": [
    {
     "data": {
      "text/plain": [
       "{'data': {'text': '奔腾CPU内的数据cache是一个路组相联结构，就采用这种简捷的LRU替换算法'},\n",
       " 'predictions': [{'model_version': '',\n",
       "   'score': 0,\n",
       "   'result': [{'id': '1204',\n",
       "     'from_name': 'label',\n",
       "     'to_name': 'text',\n",
       "     'type': 'labels',\n",
       "     'value': {'start': 7,\n",
       "      'end': 14,\n",
       "      'score': 0.1,\n",
       "      'text': '数据cache',\n",
       "      'labels': ['STOR']}},\n",
       "    {'id': '1205',\n",
       "     'from_name': 'label',\n",
       "     'to_name': 'text',\n",
       "     'type': 'labels',\n",
       "     'value': {'start': 32,\n",
       "      'end': 39,\n",
       "      'score': 0.1,\n",
       "      'text': 'LRU替换算法',\n",
       "      'labels': ['ALG']}},\n",
       "    {'id': '1206',\n",
       "     'from_name': 'label',\n",
       "     'to_name': 'text',\n",
       "     'type': 'labels',\n",
       "     'value': {'start': 18,\n",
       "      'end': 21,\n",
       "      'score': 0.1,\n",
       "      'text': '组相联',\n",
       "      'labels': ['TECH']}},\n",
       "    {'id': '1207',\n",
       "     'from_name': 'label',\n",
       "     'to_name': 'text',\n",
       "     'type': 'labels',\n",
       "     'value': {'start': 2,\n",
       "      'end': 5,\n",
       "      'score': 0.1,\n",
       "      'text': 'CPU',\n",
       "      'labels': ['COMP']}}]}]}"
      ]
     },
     "execution_count": 8,
     "metadata": {},
     "output_type": "execute_result"
    }
   ],
   "execution_count": 8
  },
  {
   "metadata": {
    "ExecuteTime": {
     "end_time": "2024-09-30T13:15:39.417286Z",
     "start_time": "2024-09-30T13:15:39.392115Z"
    }
   },
   "cell_type": "code",
   "source": [
    "def convert_json_data(data_list):\n",
    "    converted_data_list = []\n",
    "\n",
    "    for item in data_list:\n",
    "        # 提取句子\n",
    "        sentence = item.get('data', {}).get('text', '')\n",
    "        \n",
    "        # 初始化转换后的数据结构\n",
    "        converted_data = {\n",
    "            'sentence': sentence,\n",
    "            'entities': [],\n",
    "            'relations': []\n",
    "        }\n",
    "\n",
    "        # 提取entities\n",
    "        predictions = item.get('predictions', [])\n",
    "        if predictions:\n",
    "            results = predictions[0].get('result', [])\n",
    "            for result in results:\n",
    "                entity = {\n",
    "                    'text': result['value']['text'],\n",
    "                    'start': result['value']['start'],\n",
    "                    'end': result['value']['end'],\n",
    "                    'labels': result['value']['labels']\n",
    "                }\n",
    "                converted_data['entities'].append(entity)\n",
    "\n",
    "        converted_data_list.append(converted_data)\n",
    "\n",
    "    return converted_data_list"
   ],
   "outputs": [],
   "execution_count": 16
  },
  {
   "metadata": {
    "ExecuteTime": {
     "end_time": "2024-09-30T13:16:43.856409Z",
     "start_time": "2024-09-30T13:16:43.664404Z"
    }
   },
   "cell_type": "code",
   "source": [
    "new_not_annotated_trainset = convert_json_data(not_annotated_trainset)\n",
    "new_not_annotated_validset = convert_json_data(not_annotated_validset)\n",
    "new_not_annotated_testset = convert_json_data(not_annotated_testset)"
   ],
   "outputs": [],
   "execution_count": 19
  },
  {
   "metadata": {
    "ExecuteTime": {
     "end_time": "2024-09-30T13:18:42.625407Z",
     "start_time": "2024-09-30T13:18:42.492320Z"
    }
   },
   "cell_type": "code",
   "source": [
    "with open(r'G:\\python_codes\\Principles_of_Computer_Construction_KG\\output\\[banned]\\not_annotated_trainset.json', 'w', encoding='utf-8') as f:\n",
    "    f.write(json.dumps(new_not_annotated_trainset))\n",
    "\n",
    "with open(r'G:\\python_codes\\Principles_of_Computer_Construction_KG\\output\\[banned]\\not_annotated_validset.json', 'w', encoding='utf-8') as f:\n",
    "    f.write(json.dumps(new_not_annotated_validset))\n",
    "\n",
    "with open(r'G:\\python_codes\\Principles_of_Computer_Construction_KG\\output\\[banned]\\not_annotated_testset.json', 'w', encoding='utf-8') as f:\n",
    "    f.write(json.dumps(new_not_annotated_testset))"
   ],
   "outputs": [],
   "execution_count": 21
  },
  {
   "metadata": {},
   "cell_type": "code",
   "outputs": [],
   "execution_count": null,
   "source": ""
  }
 ],
 "metadata": {
  "kernelspec": {
   "display_name": "Python 3",
   "language": "python",
   "name": "python3"
  },
  "language_info": {
   "codemirror_mode": {
    "name": "ipython",
    "version": 3
   },
   "file_extension": ".py",
   "mimetype": "text/x-python",
   "name": "python",
   "nbconvert_exporter": "python",
   "pygments_lexer": "ipython3",
   "version": "3.12.4"
  }
 },
 "nbformat": 4,
 "nbformat_minor": 2
}
